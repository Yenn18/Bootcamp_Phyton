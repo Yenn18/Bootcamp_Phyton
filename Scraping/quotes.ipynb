{
 "cells": [
  {
   "cell_type": "markdown",
   "metadata": {},
   "source": [
    "Con esto hacer una solicitud a un url"
   ]
  },
  {
   "cell_type": "code",
   "execution_count": 3,
   "metadata": {},
   "outputs": [
    {
     "name": "stdout",
     "output_type": "stream",
     "text": [
      "solicitud ok\n"
     ]
    }
   ],
   "source": [
    "#Ejemplo de como se utiliza requests y beautifulsoup4:\n",
    "\n",
    "import requests\n",
    "\n",
    "url = 'http://quotes.toscrape.com'\n",
    "response = requests.get(url)\n",
    "\n",
    "if response.status_code == 200:\n",
    "    print('solicitud ok')\n",
    "else:\n",
    "    print(f'Error :{response.status_code}')"
   ]
  },
  {
   "cell_type": "markdown",
   "metadata": {},
   "source": [
    "con esto miramos como funciona beautifulsoup4 y como funciona analizar html"
   ]
  },
  {
   "cell_type": "code",
   "execution_count": 6,
   "metadata": {},
   "outputs": [
    {
     "name": "stdout",
     "output_type": "stream",
     "text": [
      "Cita: “The world as we have created it is a process of our thinking. It cannot be changed without changing our thinking.” \n",
      "Autor: Albert Einstein\n",
      "Etiquetas: []\n",
      "\n",
      "Cita: “It is our choices, Harry, that show what we truly are, far more than our abilities.” \n",
      "Autor: J.K. Rowling\n",
      "Etiquetas: []\n",
      "\n",
      "Cita: “There are only two ways to live your life. One is as though nothing is a miracle. The other is as though everything is a miracle.” \n",
      "Autor: Albert Einstein\n",
      "Etiquetas: []\n",
      "\n",
      "Cita: “The person, be it gentleman or lady, who has not pleasure in a good novel, must be intolerably stupid.” \n",
      "Autor: Jane Austen\n",
      "Etiquetas: []\n",
      "\n",
      "Cita: “Imperfection is beauty, madness is genius and it's better to be absolutely ridiculous than absolutely boring.” \n",
      "Autor: Marilyn Monroe\n",
      "Etiquetas: []\n",
      "\n",
      "Cita: “Try not to become a man of success. Rather become a man of value.” \n",
      "Autor: Albert Einstein\n",
      "Etiquetas: []\n",
      "\n",
      "Cita: “It is better to be hated for what you are than to be loved for what you are not.” \n",
      "Autor: André Gide\n",
      "Etiquetas: []\n",
      "\n",
      "Cita: “I have not failed. I've just found 10,000 ways that won't work.” \n",
      "Autor: Thomas A. Edison\n",
      "Etiquetas: []\n",
      "\n",
      "Cita: “A woman is like a tea bag; you never know how strong it is until it's in hot water.” \n",
      "Autor: Eleanor Roosevelt\n",
      "Etiquetas: []\n",
      "\n",
      "Cita: “A day without sunshine is like, you know, night.” \n",
      "Autor: Steve Martin\n",
      "Etiquetas: []\n",
      "\n"
     ]
    }
   ],
   "source": [
    "from bs4 import BeautifulSoup\n",
    "\n",
    "soup = BeautifulSoup(response.content, 'lxml')\n",
    "\n",
    "quotes = soup.find_all('div', class_= 'quote')\n",
    "for quote in quotes:\n",
    "    text = quote.find('span', class_= 'text').text\n",
    "    author = quote.find('small', class_='author').text\n",
    "    tags = [tag.text for tag in quote.find_all('p', class_= 'tag')]\n",
    "    print (f'Cita: {text} \\nAutor: {author}\\nEtiquetas: {tags}\\n')\n",
    "\n",
    "\n",
    "\n"
   ]
  },
  {
   "cell_type": "code",
   "execution_count": 5,
   "metadata": {},
   "outputs": [],
   "source": [
    "def extract_quotes_from_page(url):\n",
    "    response = requests.get(url)\n",
    "    soup = BeautifulSoup(response.content, 'lxml')\n",
    "    quotes = soup.find_all('div', class_= quote)\n",
    "    for quote in quotes:\n",
    "        text = quote.find('span', class_='text').text\n",
    "        author = quote.find('small', class_='author').text\n",
    "        tags = [tag.text for tag in quote.find_all('a', class_= 'tag')]\n",
    "    print(f'cita: {text}\\nAutor: {author}\\n Etiquetas: {tags}\\n')\n",
    "\n",
    "    url = 'http://quotes.toscrape.com/page/1'\n",
    "    while True:\n",
    "        extract_quotes_from_page(url)\n",
    "        next_button = soup.find('li', class_= 'next')\n",
    "        if not next_button:\n",
    "            break\n",
    "        next_url = next_button.find('a')['href']\n",
    "        url = f'http://quotes.toscrape.com{next_url}'"
   ]
  }
 ],
 "metadata": {
  "kernelspec": {
   "display_name": "base",
   "language": "python",
   "name": "python3"
  },
  "language_info": {
   "codemirror_mode": {
    "name": "ipython",
    "version": 3
   },
   "file_extension": ".py",
   "mimetype": "text/x-python",
   "name": "python",
   "nbconvert_exporter": "python",
   "pygments_lexer": "ipython3",
   "version": "3.12.4"
  }
 },
 "nbformat": 4,
 "nbformat_minor": 2
}
