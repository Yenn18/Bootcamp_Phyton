{
 "cells": [
  {
   "cell_type": "code",
   "execution_count": 3,
   "metadata": {},
   "outputs": [
    {
     "name": "stdout",
     "output_type": "stream",
     "text": [
      "genial una parte hecha\n"
     ]
    }
   ],
   "source": [
    "import requests\n",
    "\n",
    "url = 'https://webscraper.io/test-sites/e-commerce/allinone'\n",
    "response = requests.get(url)\n",
    "\n",
    "if response.status_code == 200:\n",
    "    print('genial una parte hecha')\n",
    "else:\n",
    "    print(f'Error: {response.status_code}')"
   ]
  },
  {
   "cell_type": "markdown",
   "metadata": {},
   "source": [
    "Extraer la información de los productos disponibles en la categoría de laptops.\n",
    "Para cada producto, debes obtener los siguientes datos:\n",
    "Nombre del producto\n",
    "Precio\n",
    "Descripción\n",
    "Cantidad de reviews o reseñas"
   ]
  },
  {
   "cell_type": "code",
   "execution_count": 34,
   "metadata": {},
   "outputs": [
    {
     "name": "stdout",
     "output_type": "stream",
     "text": [
      "Nombre: Dell Latitude...\n",
      "precio: $1310.39\n",
      "Descripcion: Dell Latitude 5480, 14\" FHD, Core i7-7600U, 8GB, 256GB SSD, Windows 10 Pro\n",
      " reseñas: []\n",
      "Nombre: Lenovo V110-15...\n",
      "precio: $321.94\n",
      "Descripcion: Lenovo V110-15IAP, 15.6\" HD, Celeron N3350 1.1GHz, 4GB, 128GB SSD, Windows 10 Home\n",
      " reseñas: []\n",
      "Nombre: Lenovo V110-15...\n",
      "precio: $356.49\n",
      "Descripcion: Asus VivoBook 15 X540NA-GQ008T Chocolate Black, 15.6\" HD, Pentium N4200, 4GB, 500GB, Windows 10 Home, En kbd\n",
      " reseñas: []\n"
     ]
    }
   ],
   "source": [
    "from bs4 import BeautifulSoup\n",
    "\n",
    "soup = BeautifulSoup(response.content, 'lxml')\n",
    "\n",
    "products = soup.find_all('div', class_='caption')\n",
    "for product in products:\n",
    "    card = product.find('a', class_= 'title').text\n",
    "    price = product.find('h4', class_= 'price').text\n",
    "    description = product.find('p', class_= 'description').text\n",
    "    reviews = []\n",
    "    reviews = [review.text for review in product.find_all('p',class_='review-count')]\n",
    "    print(f'Nombre: {card}\\nprecio: {price}\\nDescripcion: {description}\\n reseñas: {reviews}')"
   ]
  }
 ],
 "metadata": {
  "kernelspec": {
   "display_name": "base",
   "language": "python",
   "name": "python3"
  },
  "language_info": {
   "codemirror_mode": {
    "name": "ipython",
    "version": 3
   },
   "file_extension": ".py",
   "mimetype": "text/x-python",
   "name": "python",
   "nbconvert_exporter": "python",
   "pygments_lexer": "ipython3",
   "version": "3.12.4"
  }
 },
 "nbformat": 4,
 "nbformat_minor": 2
}
