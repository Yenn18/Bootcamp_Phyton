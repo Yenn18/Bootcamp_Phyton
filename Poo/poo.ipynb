{
 "cells": [
  {
   "cell_type": "code",
   "execution_count": 1,
   "metadata": {},
   "outputs": [
    {
     "data": {
      "text/plain": [
       "[1, 2, 3, 4]"
      ]
     },
     "execution_count": 1,
     "metadata": {},
     "output_type": "execute_result"
    }
   ],
   "source": [
    "#Conceptos\n",
    "\n",
    "l = [1, 2, 3] # esto es una lista orientada a un objecto\n",
    "l.append(4)\n",
    "l"
   ]
  },
  {
   "cell_type": "code",
   "execution_count": null,
   "metadata": {},
   "outputs": [],
   "source": [
    "#clase para definiarlas\n",
    "class saludo:\n",
    "    mensaje = \"bienvenido\" # atributo\n",
    "    def saludar(self,nombre):\n",
    "        print(self.mensaje+nombre)\n",
    "        return\n",
    "    \n",
    "s = saludo()\n",
    "s.saludar('Oscar') # esto son instancias\n",
    "\n",
    "s2=saludo()\n",
    "s2.saludar('ivan')\n",
    "s3='pedro'\n"
   ]
  },
  {
   "cell_type": "code",
   "execution_count": 6,
   "metadata": {},
   "outputs": [
    {
     "name": "stdout",
     "output_type": "stream",
     "text": [
      "tienes este saldo 1000 €\n",
      "Tarjeta numero 1234567 con saldo 1000 € \n"
     ]
    }
   ],
   "source": [
    "class Tarjeta:\n",
    "    def __init__(self,id,cantidad=0): # podemos instanciar la tarjeta o el saldo pero hemos creado una funcion inicializadora nos obliga a instanciarla con init.\n",
    "        self.id = id\n",
    "        self.saldo = cantidad\n",
    "    def mostras_saldo(self, moneda):\n",
    "        print(\"tienes este saldo\",self.saldo,moneda)\n",
    "        return\n",
    "    def __str__(self): # str\n",
    "        return 'Tarjeta numero {} con saldo {} € '.format(self.id,(self.saldo))\n",
    "\n",
    "t_caixa = Tarjeta(\"1234567\",1000)\n",
    "t_caixa.mostras_saldo(\"€\")\n",
    "print(t_caixa)"
   ]
  },
  {
   "cell_type": "markdown",
   "metadata": {},
   "source": [
    "En Python, el método __str__ se utiliza para definir una representación en forma de cadena de texto de un objeto. Cuando llamas a str() en una instancia de una clase o cuando imprimes la instancia, Python utiliza el método __str__ para obtener una cadena que representa ese objeto"
   ]
  },
  {
   "cell_type": "code",
   "execution_count": 10,
   "metadata": {},
   "outputs": [
    {
     "name": "stdout",
     "output_type": "stream",
     "text": [
      "Oscar(80)\n",
      " Hello my name isOscar y saluda a ivan\n",
      "Oscar(50)\n"
     ]
    }
   ],
   "source": [
    "class Persona:\n",
    "    def __init__(self,name,age): #instanciamos la funcion.\n",
    "        self.name = name\n",
    "        self.age = age\n",
    "    def __str__(self): # con el str sirve para calcular la reprensentacion de una cadena podemos tranformarlo en un objecto\n",
    "        return f\"{self.name}({self.age})\"\n",
    "    def saludar (self, nombre):\n",
    "        print(\" Hello my name is \" + self.name + \" y saluda a \" + nombre)\n",
    "p1 = Persona('Oscar',80)\n",
    "print(p1)\n",
    "p1.saludar('ivan')\n",
    "p1.age = 50\n",
    "print(p1)"
   ]
  },
  {
   "cell_type": "code",
   "execution_count": 12,
   "metadata": {},
   "outputs": [
    {
     "data": {
      "text/plain": [
       "4"
      ]
     },
     "execution_count": 12,
     "metadata": {},
     "output_type": "execute_result"
    }
   ],
   "source": [
    "class Coche:        #\n",
    "    ruedas = 4\n",
    "    def __init__(self,color,aceleracion):\n",
    "        self.color = color\n",
    "        self.aceleracion = aceleracion\n",
    "        self.velocidad = 0\n",
    "\n",
    "    def acelerar(self):\n",
    "        self.velocidad = self.aceleracion + self.velocidad\n",
    "    \n",
    "    def frenar(self):\n",
    "        v = self.velocidad - self.aceleracion\n",
    "        if v < 0:\n",
    "            v = 0\n",
    "        self.velocidad = v\n",
    "\n",
    "citroen = Coche('rojo',120)\n",
    "citroen.color\n",
    "citroen.ruedas\n",
    "\n",
    "#======================================================\n",
    "\n",
    "nissan_350z = Coche('gris',300)\n",
    "nissan_350z.color\n",
    "nissan_350z.ruedas\n",
    "\n"
   ]
  },
  {
   "cell_type": "code",
   "execution_count": 13,
   "metadata": {},
   "outputs": [],
   "source": [
    "citroen.acelerar()"
   ]
  },
  {
   "cell_type": "code",
   "execution_count": null,
   "metadata": {},
   "outputs": [],
   "source": [
    "citroen.frenar()"
   ]
  },
  {
   "cell_type": "code",
   "execution_count": 15,
   "metadata": {},
   "outputs": [
    {
     "data": {
      "text/plain": [
       "120"
      ]
     },
     "execution_count": 15,
     "metadata": {},
     "output_type": "execute_result"
    }
   ],
   "source": [
    "citroen.velocidad"
   ]
  },
  {
   "cell_type": "code",
   "execution_count": 16,
   "metadata": {},
   "outputs": [],
   "source": [
    "class CocheVolar(Coche): # esto es una herencia de padre que es coche, le pasamos parametro y valores\n",
    "    ruedas = 3\n",
    "    def __init__(self, color, aceleracion,esta_volando=False):\n",
    "        super().__init__(color,aceleracion) # super es para las subclases instanciarlas\n",
    "        self.esta_volando = esta_volando\n",
    "\n",
    "    def vuela (self):\n",
    "        self.esta_volando = True\n",
    "    def aterrizar(self):\n",
    "        self.esta_volando = False\n"
   ]
  },
  {
   "cell_type": "code",
   "execution_count": 17,
   "metadata": {},
   "outputs": [],
   "source": [
    "c = Coche('azul',10)\n",
    "cvl = CocheVolar('gris', 60)"
   ]
  },
  {
   "cell_type": "code",
   "execution_count": 18,
   "metadata": {},
   "outputs": [],
   "source": [
    "cvl.aterrizar()"
   ]
  },
  {
   "cell_type": "code",
   "execution_count": 26,
   "metadata": {},
   "outputs": [
    {
     "data": {
      "text/plain": [
       "True"
      ]
     },
     "execution_count": 26,
     "metadata": {},
     "output_type": "execute_result"
    }
   ],
   "source": [
    "cvl.esta_volando"
   ]
  },
  {
   "cell_type": "code",
   "execution_count": 25,
   "metadata": {},
   "outputs": [],
   "source": [
    "c.acelerar()"
   ]
  },
  {
   "cell_type": "code",
   "execution_count": 23,
   "metadata": {},
   "outputs": [
    {
     "data": {
      "text/plain": [
       "0"
      ]
     },
     "execution_count": 23,
     "metadata": {},
     "output_type": "execute_result"
    }
   ],
   "source": [
    "cvl.velocidad"
   ]
  },
  {
   "cell_type": "code",
   "execution_count": 28,
   "metadata": {},
   "outputs": [
    {
     "data": {
      "text/plain": [
       "True"
      ]
     },
     "execution_count": 28,
     "metadata": {},
     "output_type": "execute_result"
    }
   ],
   "source": [
    "cvl.esta_volando"
   ]
  },
  {
   "cell_type": "markdown",
   "metadata": {},
   "source": [
    "para verificar si un objeto es una instancia de una clase o de una tupla de clases. Es una forma de comprobar el tipo de un objeto en tiempo de ejecución."
   ]
  },
  {
   "cell_type": "code",
   "execution_count": 30,
   "metadata": {},
   "outputs": [
    {
     "data": {
      "text/plain": [
       "False"
      ]
     },
     "execution_count": 30,
     "metadata": {},
     "output_type": "execute_result"
    }
   ],
   "source": [
    "isinstance(cvl, CocheVolar) # tenemos una instancia"
   ]
  },
  {
   "cell_type": "markdown",
   "metadata": {},
   "source": [
    "es una función incorporada que se utiliza para verificar si una clase es una subclase de otra clase. Es una forma de comprobar la relación de herencia entre dos clases"
   ]
  },
  {
   "cell_type": "code",
   "execution_count": 31,
   "metadata": {},
   "outputs": [
    {
     "data": {
      "text/plain": [
       "True"
      ]
     },
     "execution_count": 31,
     "metadata": {},
     "output_type": "execute_result"
    }
   ],
   "source": [
    "issubclass(CocheVolar,Coche)"
   ]
  },
  {
   "cell_type": "code",
   "execution_count": 32,
   "metadata": {},
   "outputs": [],
   "source": [
    "#Encapsulamiento ocular su estado,geter y seter\n",
    "class A:\n",
    "    def __init__(self):\n",
    "        self._contador = 0 #objecto privado\n",
    "    def incrementar(self):\n",
    "        self._contador += 1\n",
    "    def cuenta(self):\n",
    "        return self._contador\n",
    "    \n",
    "class B(): # sinomino de self\n",
    "    def __init__(self):\n",
    "        self._contador = 0  #esto es un objecto privado\n",
    "    def incrementar(self):\n",
    "        self._contador += 1\n",
    "    def cuenta(self):\n",
    "        return self._contador\n",
    "    \n",
    "    \n"
   ]
  },
  {
   "cell_type": "code",
   "execution_count": 33,
   "metadata": {},
   "outputs": [
    {
     "data": {
      "text/plain": [
       "3"
      ]
     },
     "execution_count": 33,
     "metadata": {},
     "output_type": "execute_result"
    }
   ],
   "source": [
    "a = A()\n",
    "a.incrementar()\n",
    "a.incrementar()\n",
    "a.incrementar()\n",
    "a.cuenta()"
   ]
  },
  {
   "cell_type": "code",
   "execution_count": 34,
   "metadata": {},
   "outputs": [
    {
     "data": {
      "text/plain": [
       "3"
      ]
     },
     "execution_count": 34,
     "metadata": {},
     "output_type": "execute_result"
    }
   ],
   "source": [
    "a._contador"
   ]
  },
  {
   "cell_type": "code",
   "execution_count": null,
   "metadata": {},
   "outputs": [],
   "source": [
    "b = B()"
   ]
  },
  {
   "cell_type": "code",
   "execution_count": 42,
   "metadata": {},
   "outputs": [
    {
     "ename": "TypeError",
     "evalue": "B.incrementar() missing 1 required positional argument: 'self'",
     "output_type": "error",
     "traceback": [
      "\u001b[1;31m---------------------------------------------------------------------------\u001b[0m",
      "\u001b[1;31mTypeError\u001b[0m                                 Traceback (most recent call last)",
      "Cell \u001b[1;32mIn[42], line 1\u001b[0m\n\u001b[1;32m----> 1\u001b[0m B\u001b[38;5;241m.\u001b[39mincrementar()\n\u001b[0;32m      2\u001b[0m B\u001b[38;5;241m.\u001b[39mincrementar()\n\u001b[0;32m      3\u001b[0m B\u001b[38;5;241m.\u001b[39mincrementar()\n",
      "\u001b[1;31mTypeError\u001b[0m: B.incrementar() missing 1 required positional argument: 'self'"
     ]
    }
   ],
   "source": [
    "b.incrementar()\n",
    "b.incrementar()\n",
    "b.incrementar()\n",
    "b.cuenta()\n",
    "\n"
   ]
  },
  {
   "cell_type": "code",
   "execution_count": 38,
   "metadata": {},
   "outputs": [
    {
     "ename": "NameError",
     "evalue": "name 'b' is not defined",
     "output_type": "error",
     "traceback": [
      "\u001b[1;31m---------------------------------------------------------------------------\u001b[0m",
      "\u001b[1;31mNameError\u001b[0m                                 Traceback (most recent call last)",
      "Cell \u001b[1;32mIn[38], line 1\u001b[0m\n\u001b[1;32m----> 1\u001b[0m b\u001b[38;5;241m.\u001b[39m_contador\n",
      "\u001b[1;31mNameError\u001b[0m: name 'b' is not defined"
     ]
    }
   ],
   "source": [
    "b._contador"
   ]
  },
  {
   "cell_type": "code",
   "execution_count": null,
   "metadata": {},
   "outputs": [],
   "source": [
    "#utilizar get_er y set_er"
   ]
  },
  {
   "cell_type": "code",
   "execution_count": null,
   "metadata": {},
   "outputs": [],
   "source": [
    "class Persona:\n",
    "    def __init__(self, nombre, edad):\n",
    "        self.__nombre = nombre\n",
    "        self.__edad = edad\n",
    "    #esto es un Getter\n",
    "    @property\n",
    "    def nombre(self):\n",
    "        return self.__nombre\n",
    "    #Esto un setter\n",
    "    @nombre.setter\n",
    "    def nombre(self,valor):\n",
    "        self.__nombre = valor\n",
    "\n",
    "    #esto es un Getter\n",
    "    @property\n",
    "    def edad (self):\n",
    "        return self.__edad\n",
    "     #Esto un setter\n",
    "    @edad.setter\n",
    "    def edad(self,valor):\n",
    "        self.__edad = valor\n",
    "    \n",
    "    \n",
    "    "
   ]
  },
  {
   "cell_type": "code",
   "execution_count": null,
   "metadata": {},
   "outputs": [],
   "source": []
  },
  {
   "cell_type": "code",
   "execution_count": 43,
   "metadata": {},
   "outputs": [
    {
     "name": "stdout",
     "output_type": "stream",
     "text": [
      "Animal genérico está comiendo.\n",
      "Animal genérico está durmiendo.\n",
      "Fido está comiendo.\n",
      "Fido está durmiendo.\n",
      "Fido está ladrando.\n",
      "Raza del perro: Labrador\n"
     ]
    }
   ],
   "source": [
    "#Polimorfismo es la capacidad de una entidad de referenciar en tiempo de ejecución a\n",
    "#instancias de diferentes clases.\n",
    "\n",
    "class Animal:\n",
    "    def __init__(self, nombre):\n",
    "        self.nombre = nombre\n",
    "    def comer(self):\n",
    "        print(f\"{self.nombre} está comiendo.\")\n",
    "    def dormir(self):\n",
    "        print(f\"{self.nombre} está durmiendo.\")\n",
    "\n",
    "# Definición de una clase derivada (subclase) que hereda de Animal\n",
    "class Perro(Animal):\n",
    "    def __init__(self, nombre, raza):\n",
    "        super().__init__(nombre)\n",
    "        self.raza = raza\n",
    "    def ladrar(self):\n",
    "        print(f\"{self.nombre} está ladrando.\")\n",
    "\n",
    "# Creación de instancias de las clases\n",
    "animal_generico = Animal(\"Animal genérico\")\n",
    "animal_generico.comer()\n",
    "animal_generico.dormir()\n",
    "perro1 = Perro(\"Fido\", \"Labrador\")\n",
    "perro1.comer()\n",
    "perro1.dormir()\n",
    "perro1.ladrar()\n",
    "print(f\"Raza del perro: {perro1.raza}\")"
   ]
  }
 ],
 "metadata": {
  "kernelspec": {
   "display_name": "base",
   "language": "python",
   "name": "python3"
  },
  "language_info": {
   "codemirror_mode": {
    "name": "ipython",
    "version": 3
   },
   "file_extension": ".py",
   "mimetype": "text/x-python",
   "name": "python",
   "nbconvert_exporter": "python",
   "pygments_lexer": "ipython3",
   "version": "3.12.4"
  }
 },
 "nbformat": 4,
 "nbformat_minor": 2
}
