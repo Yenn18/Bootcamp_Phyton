{
 "cells": [
  {
   "cell_type": "markdown",
   "metadata": {},
   "source": [
    "PARTE 1\n",
    "\n",
    "Vamos a crear una clase llamada Persona. Sus atributos son: nombre, edad\n",
    "y DNI. Construye los siguientes métodos para la clase:\n",
    "● Un constructor, donde los datos pueden estar vacíos.\n",
    "● Los setters y getters para cada uno de los atributos. Hay que validar\n",
    "las entradas de datos.\n",
    "● mostrar(): Muestra los datos de la persona.\n",
    "● esMayorDeEdad(): Devuelve un valor lógico indicando si es mayor de\n",
    "edad."
   ]
  },
  {
   "cell_type": "code",
   "execution_count": null,
   "metadata": {},
   "outputs": [],
   "source": []
  },
  {
   "cell_type": "markdown",
   "metadata": {},
   "source": [
    "\n",
    "PARTE 2\n",
    "\n",
    "Crea una clase llamada Cuenta que tendrá los siguientes atributos: titular\n",
    "(que es una persona) y cantidad (puede tener decimales). El titular será\n",
    "obligatorio y la cantidad es opcional. Construye los siguientes métodos\n",
    "para la clase:\n",
    "● Un constructor, donde los datos pueden estar vacíos.\n",
    "● Los setters y getters para cada uno de los atributos. El atributo no se\n",
    "puede modificar directamente, sólo ingresando o retirando dinero.\n",
    "● mostrar(): Muestra los datos de la cuenta.\n",
    "● ingresar(cantidad): se ingresa una cantidad a la cuenta, si la\n",
    "cantidad introducida es negativa, no se hará nada.\n",
    "● retirar(cantidad): se retira una cantidad a la cuenta. La cuenta\n",
    "puede estar en números rojos."
   ]
  },
  {
   "cell_type": "code",
   "execution_count": null,
   "metadata": {},
   "outputs": [],
   "source": [
    "class Cuenta:\n",
    "    def __init__(self,titular, cantidad = 0):\n",
    "        self.__titular = titular\n",
    "        self.saldo = cantidad\n",
    "\n",
    "    def mostrar_datos(self):\n",
    "        estado_cuenta = \"Es positiva\"\n",
    "        if self.saldo:\n",
    "            print(\"tu saldo es {estado_cuenta}\")\n",
    "        else:\n",
    "            print(\"estas en rojos {estado_cuenta}\")\n",
    "\n",
    "    def ingresar_dinero(self,cantidad):\n",
    "        if not \n",
    "    \n",
    "    def retirar(self,cantidad):\n",
    "        \n",
    "    \n",
    "    @property\n",
    "    #Getter\n",
    "    def titular(self):\n",
    "        return self.__titular\n",
    "    #setter\n",
    "    @titular.setter\n",
    "    def titular(self,valor):\n",
    "        self.__titular = valor\n",
    "\n"
   ]
  }
 ],
 "metadata": {
  "language_info": {
   "name": "python"
  }
 },
 "nbformat": 4,
 "nbformat_minor": 2
}
