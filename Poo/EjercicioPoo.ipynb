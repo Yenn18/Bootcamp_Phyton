{
 "cells": [
  {
   "cell_type": "markdown",
   "metadata": {},
   "source": [
    "Crea una clase llamada Libro que tenga los siguientes atributos: titulo, autor y disponible. La clase debe tener un\n",
    "método prestar que cambie el estado de disponibilidad del libro a False cuando se preste y un método devolver\n",
    "que cambie el estado de disponibilidad del libro a True cuando se devuelva. También, debe haber un método\n",
    "mostrar_informacion que muestre el título, el autor y el estado de disponibilidad del libro.\n",
    "\n",
    "Además, crea una clase llamada Biblioteca que tenga un atributo nombre y una lista de libros disponibles. La\n",
    "clase debe tener un método agregar_libro para agregar un libro a la biblioteca y un método mostrar_libros para\n",
    "mostrar la información de todos los libros disponibles en la biblioteca.\n"
   ]
  },
  {
   "cell_type": "code",
   "execution_count": 36,
   "metadata": {},
   "outputs": [],
   "source": [
    "class Libro:\n",
    "    def __init__(self,titulo,autor): #creamos una instancia para titulo y author\n",
    "        self.titulo = titulo\n",
    "        self.autor = autor\n",
    "        self.disponible = True\n",
    "\n",
    "    def mostrar_informacion(self):\n",
    "        estado_libro = \"Esta disponible\"\n",
    "        if self.disponible:\n",
    "            print(\"Esta disponible el libro\")\n",
    "        else:\n",
    "            print(\"No esta disponible el libro\")\n",
    "        print(f\"El {self.titulo}\")\n",
    "        print(f\"El {self.autor}\")\n",
    "        print(f\"La disponibilidad es {estado_libro}\")\n",
    "        print()\n",
    "       \n",
    "    def prestar(self):\n",
    "        self.prestar = False\n",
    "        print(f\"El libro se ha prestado {self.prestar} \")\n",
    "        \n",
    "\n",
    "    def devolver(self):\n",
    "        if not self.devolver == False: # cuando queremos verificar una condicion false utilizamos if not\n",
    "            self.devolver = True\n",
    "            print(f\"Se ha devuelvo el libro{self.devolver}\")\n",
    "        else:\n",
    "            print(f\"No se a devuelvo el libro {self.devolver}\")\n",
    "\n",
    "class Biblioteca:\n",
    "    def __init__(self,nombre):\n",
    "        self.nombre = nombre\n",
    "        self.biblioteca_disponibles = []\n",
    "\n",
    "    def agregar_libro(self,libro):\n",
    "        self.biblioteca_disponibles.append(libro)\n",
    "        print(f\"Libro {libro} se ha agregado perfectamente\")\n",
    "\n",
    "    def mostrar_libros(self):\n",
    "        if not self.biblioteca_disponible:\n",
    "            print(\"libro no disponible\")\n",
    "        else:\n",
    "            print(\"El libro esta disponible \")\n",
    "            for libro in self.biblioteca_disponibles:\n",
    "                libro.mostrar_informacion()\n",
    "\n",
    "\n"
   ]
  },
  {
   "cell_type": "markdown",
   "metadata": {},
   "source": [
    "Crea una clase llamada Cuenta que tendrá los siguientes atributos: titular\n",
    "(que es una persona) y cantidad (puede tener decimales). El titular será\n",
    "obligatorio y la cantidad es opcional. Construye los siguientes métodos\n",
    "para la clase:\n",
    "● Un constructor, donde los datos pueden estar vacíos.\n",
    "● Los setters y getters para cada uno de los atributos. El atributo no se\n",
    "puede modificar directamente, sólo ingresando o retirando dinero.\n",
    "● mostrar(): Muestra los datos de la cuenta.\n",
    "● ingresar(cantidad): se ingresa una cantidad a la cuenta, si la\n",
    "cantidad introducida es negativa, no se hará nada.\n",
    "● retirar(cantidad): se retira una cantidad a la cuenta. La cuenta\n",
    "puede estar en números rojos."
   ]
  },
  {
   "cell_type": "code",
   "execution_count": null,
   "metadata": {},
   "outputs": [],
   "source": [
    "class Cuenta:\n",
    "    def __init__(self,titular, cantidad= 0):\n",
    "        self.__titular = titular\n",
    "        self.saldo = cantidad\n",
    "\n",
    "    def mostrar(self):\n",
    "        estado_cuenta = \"Es positiva\"\n",
    "        if not self.saldo:\n",
    "        print(\"tu saldo es {estado_cuenta}\")\n",
    "\n",
    "    def ingresar_dinero(self,dinero):\n",
    "    \n",
    "    def retirar(self,cantidad):\n",
    "        \n",
    "    \n",
    "    @property\n",
    "    #Getter\n",
    "    def titular(self):\n",
    "        return self.__titular\n",
    "    #setter\n",
    "    @titular.setter\n",
    "    def titular(self,valor):\n",
    "        self.__titular = valor\n",
    "        \n",
    "    \n",
    "    "
   ]
  }
 ],
 "metadata": {
  "kernelspec": {
   "display_name": "base",
   "language": "python",
   "name": "python3"
  },
  "language_info": {
   "codemirror_mode": {
    "name": "ipython",
    "version": 3
   },
   "file_extension": ".py",
   "mimetype": "text/x-python",
   "name": "python",
   "nbconvert_exporter": "python",
   "pygments_lexer": "ipython3",
   "version": "3.12.4"
  }
 },
 "nbformat": 4,
 "nbformat_minor": 2
}
