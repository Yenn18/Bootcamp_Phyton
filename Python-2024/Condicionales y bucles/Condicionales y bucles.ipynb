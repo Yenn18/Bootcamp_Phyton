{
 "cells": [
  {
   "cell_type": "code",
   "execution_count": 2,
   "metadata": {},
   "outputs": [],
   "source": [
    "age = input('La edad del usuario')> 18\n",
    "if age > 18:\n",
    "    print(\"Es mayor de edad\")\n",
    "elif age < 18:\n",
    "    print(\"No es mayor de edad\")\n"
   ]
  },
  {
   "cell_type": "code",
   "execution_count": 1,
   "metadata": {},
   "outputs": [
    {
     "ename": "TypeError",
     "evalue": "'<' not supported between instances of 'list' and 'str'",
     "output_type": "error",
     "traceback": [
      "\u001b[1;31m---------------------------------------------------------------------------\u001b[0m",
      "\u001b[1;31mTypeError\u001b[0m                                 Traceback (most recent call last)",
      "Cell \u001b[1;32mIn[1], line 4\u001b[0m\n\u001b[0;32m      1\u001b[0m nombre \u001b[38;5;241m=\u001b[39m \u001b[38;5;28minput\u001b[39m(\u001b[38;5;124m'\u001b[39m\u001b[38;5;124mtu nombre \u001b[39m\u001b[38;5;124m'\u001b[39m)\u001b[38;5;241m.\u001b[39mlower()\n\u001b[0;32m      2\u001b[0m nombre \u001b[38;5;241m=\u001b[39m [\u001b[38;5;241m0\u001b[39m]\n\u001b[1;32m----> 4\u001b[0m \u001b[38;5;28;01mif\u001b[39;00m (nombre \u001b[38;5;241m<\u001b[39m \u001b[38;5;124m'\u001b[39m\u001b[38;5;124mm\u001b[39m\u001b[38;5;124m'\u001b[39m ) :\n\u001b[0;32m      5\u001b[0m     \u001b[38;5;28mprint\u001b[39m(\u001b[38;5;124m'\u001b[39m\u001b[38;5;124mhola\u001b[39m\u001b[38;5;124m'\u001b[39m)\n\u001b[0;32m      6\u001b[0m \u001b[38;5;28;01melif\u001b[39;00m nombre \u001b[38;5;241m>\u001b[39m \u001b[38;5;124m'\u001b[39m\u001b[38;5;124mn\u001b[39m\u001b[38;5;124m'\u001b[39m \u001b[38;5;241m==\u001b[39m \u001b[38;5;124m'\u001b[39m\u001b[38;5;124mhombre\u001b[39m\u001b[38;5;124m'\u001b[39m :\n",
      "\u001b[1;31mTypeError\u001b[0m: '<' not supported between instances of 'list' and 'str'"
     ]
    }
   ],
   "source": [
    "nombre = input('tu nombre ').lower()\n",
    "nombre = [0]\n",
    "\n",
    "if (nombre < 'm' ) :\n",
    "    print('hola')\n",
    "elif nombre > 'n' == 'hombre' :\n",
    "    print ('grupoA')\n",
    "else :\n",
    "    print ('GrupoB')"
   ]
  },
  {
   "cell_type": "code",
   "execution_count": null,
   "metadata": {},
   "outputs": [],
   "source": []
  },
  {
   "cell_type": "code",
   "execution_count": 5,
   "metadata": {},
   "outputs": [
    {
     "name": "stdout",
     "output_type": "stream",
     "text": [
      "Correcta\n"
     ]
    }
   ],
   "source": [
    "key = 'password'\n",
    "password = input('introduce la contraseña')\n",
    "if key == password.lower():\n",
    "    print('Correcta')\n",
    "else:\n",
    "    print('Incorrecta')"
   ]
  },
  {
   "cell_type": "code",
   "execution_count": 58,
   "metadata": {},
   "outputs": [],
   "source": [
    "numero = input('introduce dos numero para dividir')\n",
    "\n",
    "if int (numero == 0) :\n",
    "    print('Es par')\n",
    "elif numero == 1:\n",
    "    print('Es inpar')\n",
    "\n"
   ]
  },
  {
   "cell_type": "code",
   "execution_count": null,
   "metadata": {},
   "outputs": [],
   "source": [
    "invertir = 1000\n",
    "interes = 10  \n",
    "años = 4\n",
    "\n",
    "if (inventir * interes)"
   ]
  },
  {
   "cell_type": "code",
   "execution_count": 5,
   "metadata": {},
   "outputs": [
    {
     "name": "stdout",
     "output_type": "stream",
     "text": [
      "[1, 3, 5, 7, 9]\n"
     ]
    }
   ],
   "source": [
    "n = int (input(\"introduce un numero entero positivo\"))\n",
    "impares = []\n",
    "for i in range (1, n+1, 2) : impares.append(i)\n",
    "print(impares)"
   ]
  },
  {
   "cell_type": "code",
   "execution_count": 1,
   "metadata": {},
   "outputs": [
    {
     "name": "stdout",
     "output_type": "stream",
     "text": [
      "No trib\n"
     ]
    }
   ],
   "source": [
    "edad = 17\n",
    "salario = 1500\n",
    "puesto = ''\n",
    "if edad > 16 and salario > 15000:\n",
    "    print('tributo')\n",
    "else:\n",
    "    print('No trib')"
   ]
  },
  {
   "cell_type": "code",
   "execution_count": 2,
   "metadata": {},
   "outputs": [
    {
     "name": "stdout",
     "output_type": "stream",
     "text": [
      "No laboral\n"
     ]
    }
   ],
   "source": [
    "dia = input ('dia de la semana')\n",
    "if dia.lower() in ('lunes','martes','jueves'):\n",
    "    print('laboral')\n",
    "else:\n",
    "    print('No laboral')"
   ]
  },
  {
   "cell_type": "markdown",
   "metadata": {},
   "source": []
  }
 ],
 "metadata": {
  "kernelspec": {
   "display_name": "base",
   "language": "python",
   "name": "python3"
  },
  "language_info": {
   "codemirror_mode": {
    "name": "ipython",
    "version": 3
   },
   "file_extension": ".py",
   "mimetype": "text/x-python",
   "name": "python",
   "nbconvert_exporter": "python",
   "pygments_lexer": "ipython3",
   "version": "3.12.4"
  }
 },
 "nbformat": 4,
 "nbformat_minor": 2
}
