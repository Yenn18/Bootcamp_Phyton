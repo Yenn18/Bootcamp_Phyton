{
 "cells": [
  {
   "cell_type": "markdown",
   "metadata": {},
   "source": [
    "Con with podemos abrir archivos y con el encoding para coger los acentos y puntos y demas"
   ]
  },
  {
   "cell_type": "code",
   "execution_count": 15,
   "metadata": {},
   "outputs": [
    {
     "name": "stdout",
     "output_type": "stream",
     "text": [
      "DON QUIJOTE DE LA MANCHA\n",
      "Miguel de Cervantes Saavedra\n",
      "\n",
      "PRIMERA PARTE\n",
      "CAPÍTULO 1: Que trata de la condición y ejercicio del famoso hidalgo D. Quijote de la Mancha\n",
      "En un lugar de la Mancha, de cuyo nombre no quiero acordarme, no ha mucho tiempo que vivía un hidalgo de los de lanza en astillero, adarga antigua, rocín flaco y galgo corredor. Una olla de algo más vaca que carnero, salpicón las más noches, duelos y quebrantos los sábados, lentejas los viernes, algún palomino de añadidura los domingos, consumían las tres partes de su hacienda. El resto della concluían sayo de velarte, cal\n"
     ]
    }
   ],
   "source": [
    "with open(\"el_quijote.txt\",\"r\", encoding = \"utf-8\")as archivo:\n",
    "    contenido = archivo.read()\n",
    "print(contenido[:600])"
   ]
  },
  {
   "cell_type": "markdown",
   "metadata": {},
   "source": [
    "Aqui el len es para leer las numero de las palabras del contenido mencionado antes de las 600 y utilizamos el split que es un separador y el join unir"
   ]
  },
  {
   "cell_type": "code",
   "execution_count": 11,
   "metadata": {},
   "outputs": [
    {
     "name": "stdout",
     "output_type": "stream",
     "text": [
      "187018\n"
     ]
    }
   ],
   "source": [
    "print(numero_palabras:= len(contenido.split()))"
   ]
  },
  {
   "cell_type": "markdown",
   "metadata": {},
   "source": [
    "Aqui utilizamos maketrans para crear la traduccion de las mayusculas, y ponemos translate,y ponemos punctuation para coger el contenido sin puntos ni comas"
   ]
  },
  {
   "cell_type": "code",
   "execution_count": 17,
   "metadata": {},
   "outputs": [
    {
     "name": "stdout",
     "output_type": "stream",
     "text": [
      "14851\n"
     ]
    }
   ],
   "source": [
    "import string\n",
    "dicc = str.maketrans('','', string.punctuation)\n",
    "text_sin_puntuacion = (contenido.translate(dicc).lower())\n",
    "\n",
    "print(len(set(text_sin_puntuacion.split())))"
   ]
  },
  {
   "cell_type": "markdown",
   "metadata": {},
   "source": [
    "Con esto miramos cuantas veces sale el nombre de cada uno cuantas veces se repite, := esto sirve como operador entre dos o mas varibles te devuelve el valor."
   ]
  },
  {
   "cell_type": "code",
   "execution_count": 19,
   "metadata": {},
   "outputs": [
    {
     "name": "stdout",
     "output_type": "stream",
     "text": [
      "0\n",
      "120\n",
      "91\n",
      "848\n"
     ]
    }
   ],
   "source": [
    "print(dulcinea := text_sin_puntuacion.count(\"Sancho\"))\n",
    "print(dulcinea := text_sin_puntuacion.count(\"rocinante\"))\n",
    "print(dulcinea := text_sin_puntuacion.count(\"dulcinea\"))\n",
    "print(dulcinea := text_sin_puntuacion.count(\"quijote\"))"
   ]
  },
  {
   "cell_type": "code",
   "execution_count": 20,
   "metadata": {},
   "outputs": [
    {
     "data": {
      "text/plain": [
       "{'dulcinea': 91, 'rocinante': 120, 'sancho': 691, 'quijote': 848}"
      ]
     },
     "execution_count": 20,
     "metadata": {},
     "output_type": "execute_result"
    }
   ],
   "source": [
    "dict2 = {word : text_sin_puntuacion.count(word) for word in [\"dulcinea\",\"rocinante\",\"sancho\",\"quijote\"]}\n",
    "dict2"
   ]
  }
 ],
 "metadata": {
  "kernelspec": {
   "display_name": "base",
   "language": "python",
   "name": "python3"
  },
  "language_info": {
   "codemirror_mode": {
    "name": "ipython",
    "version": 3
   },
   "file_extension": ".py",
   "mimetype": "text/x-python",
   "name": "python",
   "nbconvert_exporter": "python",
   "pygments_lexer": "ipython3",
   "version": "3.12.4"
  }
 },
 "nbformat": 4,
 "nbformat_minor": 2
}
