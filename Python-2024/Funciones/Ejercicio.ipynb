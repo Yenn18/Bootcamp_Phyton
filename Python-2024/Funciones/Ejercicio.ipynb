{
 "cells": [
  {
   "cell_type": "code",
   "execution_count": 37,
   "metadata": {},
   "outputs": [
    {
     "name": "stdout",
     "output_type": "stream",
     "text": [
      "[0, 2, 4, 6, 8, 10, 12, 14, 16, 18, 20, 22, 24, 26, 28, 30, 32, 34, 36, 38]\n"
     ]
    }
   ],
   "source": [
    "#Ejercicio 1\n",
    "\n",
    "def duplicar_lista(lst):\n",
    "    return [x * 2 for x in lst]\n",
    "\n",
    "data = list(range(0, 20))  \n",
    "resultado = duplicar_lista(data)   \n",
    "\n",
    "print(resultado)\n",
    "\n"
   ]
  },
  {
   "cell_type": "code",
   "execution_count": 40,
   "metadata": {},
   "outputs": [
    {
     "name": "stdout",
     "output_type": "stream",
     "text": [
      "[0, 2, 4, 6, 8, 10, 12, 14, 16, 18]\n"
     ]
    }
   ],
   "source": [
    "#opcion2\n",
    "data2= range(0,10)\n",
    "def duplicar_numero(x) :\n",
    "    return x*2\n",
    "\n",
    "duplicar_lista = list(map(duplicar_numero,data2))\n",
    "\n",
    "print(duplicar_lista)"
   ]
  },
  {
   "cell_type": "code",
   "execution_count": 41,
   "metadata": {},
   "outputs": [
    {
     "name": "stdout",
     "output_type": "stream",
     "text": [
      "[0, 2, 4, 6, 8, 10, 12, 14, 16, 18]\n"
     ]
    }
   ],
   "source": [
    "#opcion3, lambda comprime la funcion en una linia, := coge una variable y la ejecuta\n",
    "print(duplicar_lista := list(map(lambda x:x*2,range(0,10))))\n"
   ]
  },
  {
   "cell_type": "code",
   "execution_count": 45,
   "metadata": {},
   "outputs": [
    {
     "data": {
      "text/plain": [
       "[2, 4, 6, 8, 10, 12, 14, 16, 18, 20, 22, 24, 26, 28]"
      ]
     },
     "execution_count": 45,
     "metadata": {},
     "output_type": "execute_result"
    }
   ],
   "source": [
    "#Ejercicio 2\n",
    "def filtrar_pares(x):\n",
    "    return x % 2 == 0 \n",
    "\n",
    "filtrar_pares(10)\n",
    "data = range(1,30)\n",
    "\n",
    "filter_number = filter(filtrar_pares,data)\n",
    "list(filter_number)"
   ]
  },
  {
   "cell_type": "code",
   "execution_count": 47,
   "metadata": {},
   "outputs": [
    {
     "name": "stdout",
     "output_type": "stream",
     "text": [
      "[2, 4, 6, 8, 10, 12, 14, 16, 18]\n"
     ]
    }
   ],
   "source": [
    "#Opcion 2\n",
    "print(filtrar_pares := list(map(lambda x:x*2,range(1,10))))"
   ]
  },
  {
   "cell_type": "code",
   "execution_count": 76,
   "metadata": {},
   "outputs": [
    {
     "name": "stdout",
     "output_type": "stream",
     "text": [
      "55\n"
     ]
    }
   ],
   "source": [
    "#Ejercicio 3\n",
    "#opcion1\n",
    "from functools import reduce\n",
    "def sumar_enteros (lista):\n",
    "    return reduce(lambda x, y: x + y, lista)\n",
    "lista = [1, 2, 3, 4, 5, 6,7, 8, 9, 10]\n",
    "resultado = sumar_enteros(lista)\n",
    "print(resultado) \n"
   ]
  },
  {
   "cell_type": "code",
   "execution_count": 81,
   "metadata": {},
   "outputs": [
    {
     "name": "stdout",
     "output_type": "stream",
     "text": [
      "55\n"
     ]
    }
   ],
   "source": [
    "#opcion 2\n",
    "from functools import reduce\n",
    "print(lista := reduce(lambda x, y: x + y, lista))"
   ]
  },
  {
   "cell_type": "code",
   "execution_count": 5,
   "metadata": {},
   "outputs": [
    {
     "name": "stdout",
     "output_type": "stream",
     "text": [
      "[11, 19, 27]\n"
     ]
    }
   ],
   "source": [
    "#Ejercicio 4\n",
    "def aplicar_a_lista_de_listas(lista_listas):\n",
    "    return list(map(sum, lista_listas))\n",
    "\n",
    "print(aplicar_a_lista_de_listas([[6,5], [10,9], [15,12]]))"
   ]
  },
  {
   "cell_type": "code",
   "execution_count": null,
   "metadata": {},
   "outputs": [],
   "source": [
    "#ejercicio 5"
   ]
  }
 ],
 "metadata": {
  "kernelspec": {
   "display_name": "base",
   "language": "python",
   "name": "python3"
  },
  "language_info": {
   "codemirror_mode": {
    "name": "ipython",
    "version": 3
   },
   "file_extension": ".py",
   "mimetype": "text/x-python",
   "name": "python",
   "nbconvert_exporter": "python",
   "pygments_lexer": "ipython3",
   "version": "3.12.4"
  }
 },
 "nbformat": 4,
 "nbformat_minor": 2
}
