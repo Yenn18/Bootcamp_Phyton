{
 "cells": [
  {
   "cell_type": "code",
   "execution_count": 6,
   "metadata": {},
   "outputs": [
    {
     "name": "stdout",
     "output_type": "stream",
     "text": [
      "1. Registrar Alumno\n",
      "2. Añadir nota alumno existente\n",
      "3. Calcular media por estudiante\n",
      "4. Mostrar aprobados\n",
      "5. Mostrar mayor promedio de notas de alumnos\n",
      "6.Exit\n",
      "[('Alumno1', [7, 6, 2]), ('Alumno2', [4, 6, 8]), ('Alumno3', [3, 2, 9, 5.0]), ('Alumno4', [2, 6, 1])]\n",
      "Has añadido una nota nueva\n",
      "1. Registrar Alumno\n",
      "2. Añadir nota alumno existente\n",
      "3. Calcular media por estudiante\n",
      "4. Mostrar aprobados\n",
      "5. Mostrar mayor promedio de notas de alumnos\n",
      "6.Exit\n",
      "6.Exit\n",
      "[('Alumno1', [7, 6, 2]), ('Alumno2', [4, 6, 8]), ('Alumno3', [3, 2, 9, 5.0]), ('Alumno4', [2, 6, 1])]\n"
     ]
    }
   ],
   "source": [
    "\n",
    "lista_estudiantes = [(\"Alumno1\",[7,6,2]),(\"Alumno2\",[4,6,8]),(\"Alumno3\",[3,2,9])]\n",
    "lista_estudiantes.append((\"Alumno4\",[2,6,1]))\n",
    "\n",
    "def anadir_estudiante(nombre):\n",
    "    lista_estudiantes.append((nombre,[]))\n",
    "\n",
    "def añadir_nota(nombre,nota):\n",
    "    for estudiante in lista_estudiantes:\n",
    "        if(estudiante[0] == nombre):\n",
    "           estudiante[1].append(float(nota))\n",
    "           break   \n",
    "    print(lista_estudiantes)\n",
    "\n",
    "def calcular_media (nota,estudiante)\n",
    "\n",
    "\n",
    "def show_menu () :  \n",
    "    print(\"1. Registrar Alumno\")\n",
    "    print(\"2. Añadir nota alumno existente\")\n",
    "    print(\"3. Calcular media por estudiante\")\n",
    "    print(\"4. Mostrar aprobados\")\n",
    "    print(\"5. Mostrar mayor promedio de notas de alumnos\")\n",
    "    print(\"6.Exit\")\n",
    "while True:\n",
    "    show_menu()\n",
    "    menu_opcion = int(input())\n",
    "    \n",
    "    match menu_opcion:\n",
    "        case 1:\n",
    "            nombre = input()\n",
    "            anadir_estudiante(nombre)\n",
    "            print(\"Has añadido un nuevo alumno\")\n",
    "        case 2:\n",
    "            nota = input(\"introduce nota: \")\n",
    "            nombre = input(\"Introduce nombre\")\n",
    "            añadir_nota(nombre, nota)\n",
    "            print(\"Has añadido una nota nueva\")\n",
    "            \n",
    "       # case 3:\n",
    "        \n",
    "       # case 4:\n",
    "        \n",
    "       # case 5:\n",
    "        \n",
    "        case 6:\n",
    "            print(\"6.Exit\")\n",
    "            break\n",
    "        \n",
    "print(lista_estudiantes)\n"
   ]
  }
 ],
 "metadata": {
  "kernelspec": {
   "display_name": "base",
   "language": "python",
   "name": "python3"
  },
  "language_info": {
   "codemirror_mode": {
    "name": "ipython",
    "version": 3
   },
   "file_extension": ".py",
   "mimetype": "text/x-python",
   "name": "python",
   "nbconvert_exporter": "python",
   "pygments_lexer": "ipython3",
   "version": "3.12.4"
  }
 },
 "nbformat": 4,
 "nbformat_minor": 2
}
