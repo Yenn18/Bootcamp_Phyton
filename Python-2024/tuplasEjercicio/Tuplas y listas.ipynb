{
 "cells": [
  {
   "cell_type": "markdown",
   "metadata": {},
   "source": [
    "Con set podemos guardar el valor y se puede mutar"
   ]
  },
  {
   "cell_type": "code",
   "execution_count": 1,
   "metadata": {},
   "outputs": [
    {
     "data": {
      "text/plain": [
       "{'J', 'e', 'n', 'y'}"
      ]
     },
     "execution_count": 1,
     "metadata": {},
     "output_type": "execute_result"
    }
   ],
   "source": [
    "nombre = \"Jenny\"\n",
    "set(nombre)\n"
   ]
  },
  {
   "cell_type": "markdown",
   "metadata": {},
   "source": [
    "Con forzenset --> podemos hacer que una array no se pueda mutar es inmutable"
   ]
  },
  {
   "cell_type": "code",
   "execution_count": 4,
   "metadata": {},
   "outputs": [
    {
     "data": {
      "text/plain": [
       "frozenset({1, 2, 3, 4, 5, 6, 7, 8, 9, 10})"
      ]
     },
     "execution_count": 4,
     "metadata": {},
     "output_type": "execute_result"
    }
   ],
   "source": [
    "marks = [1,2,3,4,5,6,7,8,9,10,3,4,7,2,6,8,9]\n",
    "marks_congeladas = frozenset (marks)\n",
    "marks_congeladas\n"
   ]
  },
  {
   "cell_type": "code",
   "execution_count": 18,
   "metadata": {},
   "outputs": [],
   "source": [
    "f = open(\"texto.txt\")\n",
    "f\n",
    "f.read()\n",
    "f.readlines()\n",
    "f.close ()\n"
   ]
  },
  {
   "cell_type": "markdown",
   "metadata": {},
   "source": [
    "Con esto podemos crear ficheros y leerlos\n",
    "open --> Abrirlos\n",
    "Readlines --> Leerlos\n",
    "Close --> cerrarlos\n",
    "write --> Escribirlos"
   ]
  },
  {
   "cell_type": "code",
   "execution_count": 27,
   "metadata": {},
   "outputs": [],
   "source": [
    "f = open(\"canary-iate.dat\", \"w\")\n",
    "canary_data =(\"GCFV\", \"GLCS\", \"GCGM\", \"GCTS\")\n",
    "for code in canary_data:\n",
    "    f.write(code + \"\\n\")\n",
    "f.close()\n",
    " "
   ]
  },
  {
   "cell_type": "markdown",
   "metadata": {},
   "source": [
    "Con esto podemos ver la intersecion, union, diferencia y la diferencia asimetrica."
   ]
  },
  {
   "cell_type": "code",
   "execution_count": 28,
   "metadata": {},
   "outputs": [
    {
     "data": {
      "text/plain": [
       "{1, 3}"
      ]
     },
     "execution_count": 28,
     "metadata": {},
     "output_type": "execute_result"
    }
   ],
   "source": [
    "a = {1,2}\n",
    "b = {2,3}\n",
    "\n",
    "a.intersection (b)\n",
    "a.union (b)\n",
    "a.difference(b)\n",
    "a.symmetric_difference(b)"
   ]
  },
  {
   "cell_type": "markdown",
   "metadata": {},
   "source": [
    "get = \"devuelve el valor o la keys\"\n",
    "rae.get()\n",
    "rae.keys()\n",
    "rae.values()\n",
    "rae.items()\n",
    "\n",
    "{**rae1, **rae2} \"Y con un * tambien se puede hacer\""
   ]
  }
 ],
 "metadata": {
  "kernelspec": {
   "display_name": "base",
   "language": "python",
   "name": "python3"
  },
  "language_info": {
   "codemirror_mode": {
    "name": "ipython",
    "version": 3
   },
   "file_extension": ".py",
   "mimetype": "text/x-python",
   "name": "python",
   "nbconvert_exporter": "python",
   "pygments_lexer": "ipython3",
   "version": "3.12.4"
  }
 },
 "nbformat": 4,
 "nbformat_minor": 2
}
